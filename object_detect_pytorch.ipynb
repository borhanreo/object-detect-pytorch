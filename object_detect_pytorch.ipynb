{
 "cells": [
  {
   "cell_type": "markdown",
   "source": [
    "# Train a new model"
   ],
   "metadata": {
    "collapsed": false
   }
  },
  {
   "cell_type": "code",
   "execution_count": 0,
   "metadata": {
    "colab_type": "code",
    "id": "4IX8JftM5ZLy",
    "outputId": "37f20974-c841-45cf-fd8d-8a5f065c206d",
    "colab": {
     "base_uri": "https://localhost:8080/",
     "height": 88.0
    }
   },
   "outputs": [
    {
     "name": "stdout",
     "output_type": "stream",
     "text": [
      "\u001b[31m  HTTP error 403 while getting http://download.pytorch.org/whl/cu100/torch-0.4.1-cp36-cp36m-linux_x86_64.whl\u001b[0m\n",
      "\u001b[31m  Could not install requirement torch==0.4.1 from http://download.pytorch.org/whl/cu100/torch-0.4.1-cp36-cp36m-linux_x86_64.whl because of error 403 Client Error: Forbidden for url: http://download.pytorch.org/whl/cu100/torch-0.4.1-cp36-cp36m-linux_x86_64.whl\u001b[0m\n",
      "\u001b[31mCould not install requirement torch==0.4.1 from http://download.pytorch.org/whl/cu100/torch-0.4.1-cp36-cp36m-linux_x86_64.whl because of HTTP error 403 Client Error: Forbidden for url: http://download.pytorch.org/whl/cu100/torch-0.4.1-cp36-cp36m-linux_x86_64.whl for URL http://download.pytorch.org/whl/cu100/torch-0.4.1-cp36-cp36m-linux_x86_64.whl\u001b[0m\n"
     ]
    }
   ],
   "source": [
    "# google colab does not come with torch installed. And also, in course we are using torch 0.4. \n",
    "# so following snippet of code installs the relevant version\n",
    "\n",
    "from os.path import exists\n",
    "from wheel.pep425tags import get_abbr_impl, get_impl_ver, get_abi_tag\n",
    "platform = '{}{}-{}'.format(get_abbr_impl(), get_impl_ver(), get_abi_tag())\n",
    "cuda_output = !ldconfig -p|grep cudart.so|sed -e 's/.*\\.\\([0-9]*\\)\\.\\([0-9]*\\)$/cu\\1\\2/'\n",
    "accelerator = cuda_output[0] if exists('/dev/nvidia0') else 'cpu'\n",
    "\n",
    "!pip install -q http://download.pytorch.org/whl/{accelerator}/torch-0.4.1-{platform}-linux_x86_64.whl torchvision"
   ]
  },
  {
   "cell_type": "code",
   "execution_count": null,
   "outputs": [],
   "source": [
    "# we will verify that GPU is enabled for this notebook\n",
    "# following should print: CUDA is available!  Training on GPU ...\n",
    "# \n",
    "# if it prints otherwise, then you need to enable GPU: \n",
    "# from Menu > Runtime > Change Runtime Type > Hardware Accelerator > GPU\n",
    "\n",
    "import torch\n",
    "import numpy as np\n",
    "\n",
    "# check if CUDA is available\n",
    "train_on_gpu = torch.cuda.is_available()\n",
    "\n",
    "if not train_on_gpu:\n",
    "    print('CUDA is not available.  Training on CPU ...')\n",
    "else:\n",
    "    print('CUDA is available!  Training on GPU ...')"
   ],
   "metadata": {
    "collapsed": false,
    "pycharm": {
     "name": "#%%\n"
    }
   }
  },
  {
   "cell_type": "code",
   "execution_count": 0,
   "metadata": {
    "colab_type": "code",
    "id": "a6WqsETVV-_B",
    "outputId": "4673ae93-e175-486e-d269-035bad143492",
    "colab": {
     "base_uri": "https://localhost:8080/",
     "height": 221.0
    }
   },
   "outputs": [
    {
     "name": "stdout",
     "output_type": "stream",
     "text": [
      "Uninstalling Pillow-5.3.0:\n",
      "  Successfully uninstalled Pillow-5.3.0\n",
      "Collecting Pillow==5.3.0\n",
      "  Using cached https://files.pythonhosted.org/packages/62/94/5430ebaa83f91cc7a9f687ff5238e26164a779cca2ef9903232268b0a318/Pillow-5.3.0-cp36-cp36m-manylinux1_x86_64.whl\n",
      "Installing collected packages: Pillow\n",
      "Successfully installed Pillow-5.3.0\n"
     ]
    },
    {
     "data": {},
     "metadata": {
      "tags": []
     },
     "output_type": "display_data"
    },
    {
     "name": "stdout",
     "output_type": "stream",
     "text": [
      "5.3.0\n"
     ]
    }
   ],
   "source": [
    "# we need pillow version of 5.3.0\n",
    "# we will uninstall the older version first\n",
    "!pip uninstall -y Pillow\n",
    "# install the new one\n",
    "!pip install Pillow==5.3.0\n",
    "# import the new one\n",
    "import PIL\n",
    "print(PIL.PILLOW_VERSION)\n",
    "# this should print 5.3.0. If it doesn't, then restart your runtime:\n",
    "# Menu > Runtime > Restart Runtime"
   ]
  },
  {
   "cell_type": "code",
   "execution_count": 0,
   "metadata": {
    "colab_type": "code",
    "id": "JzKELNjh3Ktj",
    "colab": {}
   },
   "outputs": [],
   "source": [
    "# Imports here\n",
    "import torch\n",
    "import torch.nn as nn\n",
    "import torch.optim as optim\n",
    "from torch.optim import lr_scheduler\n",
    "import numpy as np\n",
    "import time\n",
    "import os\n",
    "import argparse\n",
    "from torchvision import datasets, models, transforms, utils\n",
    "from torch.autograd import Variable\n",
    "import torch.nn.functional as F\n",
    "import copy\n",
    "from PIL import Image\n",
    "import matplotlib.pyplot as plt\n",
    "import json\n",
    "from collections import OrderedDict"
   ]
  },
  {
   "cell_type": "markdown",
   "metadata": {
    "colab_type": "text",
    "id": "nHGZkiGB3Ktn"
   },
   "source": [
    "## Load the data\n",
    "Uplaod data.zip training dataset . \n",
    "more details in readme file that "
   ]
  },
  {
   "cell_type": "code",
   "execution_count": 0,
   "metadata": {
    "colab_type": "code",
    "id": "vyw-aBuE4Az8",
    "colab": {}
   },
   "outputs": [],
   "source": [
    "!unzip -qq data.zip"
   ]
  },
  {
   "cell_type": "code",
   "execution_count": null,
   "outputs": [],
   "source": [
    "data_dir = 'data'\n",
    "train_dir = data_dir + '/train'\n",
    "valid_dir = data_dir + '/valid'\n",
    "test_dir = data_dir + '/test'\n",
    "\n",
    "nThreads = 4\n",
    "batch_size = 8\n",
    "use_gpu = torch.cuda.is_available()"
   ],
   "metadata": {
    "collapsed": false,
    "pycharm": {
     "name": "#%%\n"
    }
   }
  },
  {
   "cell_type": "code",
   "execution_count": 0,
   "metadata": {
    "colab_type": "code",
    "id": "2KvmdFb-3Kts",
    "colab": {}
   },
   "outputs": [],
   "source": [
    "# TODO: Define your transforms for the training, validation, and testing sets\n",
    "train_transforms = transforms.Compose([transforms.RandomRotation(30),\n",
    "                                       transforms.RandomResizedCrop(224),\n",
    "                                       transforms.RandomHorizontalFlip(),\n",
    "                                       transforms.ToTensor(),\n",
    "                                       transforms.Normalize([0.485, 0.456, 0.406], \n",
    "                                                            [0.229, 0.224, 0.225])])\n",
    "\n",
    "valid_transforms = transforms.Compose([transforms.Resize(256),\n",
    "                                      transforms.CenterCrop(224),\n",
    "                                      transforms.ToTensor(),\n",
    "                                      transforms.Normalize([0.485, 0.456, 0.406], \n",
    "                                                           [0.229, 0.224, 0.225])])\n",
    "\n",
    "test_transforms = transforms.Compose([transforms.Resize(256),\n",
    "                                      transforms.CenterCrop(224),\n",
    "                                      transforms.ToTensor(),\n",
    "                                      transforms.Normalize([0.485, 0.456, 0.406], \n",
    "                                                           [0.229, 0.224, 0.225])])\n"
   ]
  },
  {
   "cell_type": "code",
   "execution_count": 0,
   "metadata": {
    "id": "Wntf9Jrmka2E",
    "colab_type": "code",
    "colab": {}
   },
   "outputs": [],
   "source": [
    "# TODO: Load the datasets with ImageFolder\n",
    "image_datasets = dict()\n",
    "image_datasets['train'] = datasets.ImageFolder(train_dir, transform=train_transforms)\n",
    "image_datasets['valid'] = datasets.ImageFolder(valid_dir, transform=valid_transforms)\n",
    "image_datasets['test'] = datasets.ImageFolder(test_dir, transform=test_transforms)"
   ]
  },
  {
   "cell_type": "code",
   "execution_count": 66,
   "metadata": {
    "id": "YS66cloBkh5P",
    "colab_type": "code",
    "colab": {
     "base_uri": "https://localhost:8080/",
     "height": 136.0
    },
    "outputId": "5c233651-2a91-4554-a3de-67a82c77321f"
   },
   "outputs": [
    {
     "name": "stdout",
     "output_type": "stream",
     "text": [
      "Dasaset Size: {'train': 24, 'valid': 24, 'test': 24}\n",
      "\n",
      "Number of classes: 2\n",
      "\n",
      "Classes: ['1', '2']\n",
      "\n",
      "3\n"
     ]
    }
   ],
   "source": [
    "# TODO: Using the image datasets and the trainforms, define the dataloaders\n",
    "\n",
    "dataloaders = dict()\n",
    "dataloaders['train'] = torch.utils.data.DataLoader(image_datasets['train'], batch_size=batch_size, shuffle=True)\n",
    "dataloaders['valid'] = torch.utils.data.DataLoader(image_datasets['valid'], batch_size=batch_size)\n",
    "dataloaders['test']  = torch.utils.data.DataLoader(image_datasets['test'], batch_size=batch_size)\n",
    "\n",
    "#TODO: Know your data\n",
    "dataset_sizes = {x: len(image_datasets[x]) for x in ['train', 'valid', 'test']}\n",
    "class_names = image_datasets['train'].classes\n",
    "\n",
    "print (\"Dasaset Size: \"+ str(dataset_sizes) + \"\\n\")\n",
    "n_class = len(class_names)\n",
    "print (\"Number of classes: \"+ str(n_class) + \"\\n\")\n",
    "print (\"Classes: \"+ str(class_names) + \"\\n\")\n",
    "\n",
    "print (len(dataloaders))"
   ]
  },
  {
   "cell_type": "markdown",
   "metadata": {
    "colab_type": "text",
    "id": "1vGuzGEl3Ktv"
   },
   "source": [
    "### Label mapping\n",
    "\n"
   ]
  },
  {
   "cell_type": "code",
   "execution_count": 67,
   "metadata": {
    "colab_type": "code",
    "id": "fTVLNuhs3Ktw",
    "colab": {
     "base_uri": "https://localhost:8080/",
     "height": 34.0
    },
    "outputId": "bdb132a9-580b-4b3e-c01c-4289d6bd9f5e"
   },
   "outputs": [
    {
     "name": "stdout",
     "output_type": "stream",
     "text": [
      "{'1': 'bottle', '2': 'Car'}\n"
     ]
    }
   ],
   "source": [
    "import json\n",
    "\n",
    "with open('cat_to_name.json', 'r') as f:\n",
    "    cat_to_name = json.load(f)\n",
    "    print(cat_to_name)"
   ]
  },
  {
   "cell_type": "markdown",
   "metadata": {
    "colab_type": "text",
    "id": "kfHsUYS93Ktz"
   },
   "source": [
    "# Building and training the classifier"
   ]
  },
  {
   "cell_type": "code",
   "execution_count": 0,
   "metadata": {
    "colab_type": "code",
    "id": "xW2PnSKK3Kt0",
    "colab": {}
   },
   "outputs": [],
   "source": [
    "#Helper Functions\n",
    "\n",
    "# Function for training the model\n",
    "'''Credit : Inspired from pytoch doc tutorial (https://pytorch.org/tutorials/beginner/transfer_learning_tutorial.html)'''\n",
    "\n",
    "def train_model(model, criterion, optimizer, scheduler, num_epochs=10):\n",
    "    since = time.time()\n",
    "\n",
    "    best_model_wts = copy.deepcopy(model.state_dict())\n",
    "    best_accu = 0.0\n",
    "    \n",
    "    valid_loss_min = np.Inf # track change in validation loss\n",
    "\n",
    "    for epoch in range(num_epochs):\n",
    "        print('Epoch {}/{}'.format(epoch, num_epochs - 1))\n",
    "        print('-' * 10)\n",
    "\n",
    "        # Each epoch has a training and validation phase\n",
    "        for phase in ['train', 'valid']:\n",
    "            if phase == 'train':\n",
    "                scheduler.step()\n",
    "                model.train()  # Set model to training mode\n",
    "            else:\n",
    "                model.eval()  # Set model to evaluate mode\n",
    "\n",
    "            running_loss = 0.0\n",
    "            running_corrects = 0\n",
    "\n",
    "            # Iterate over data.\n",
    "            for data in dataloaders[phase]:\n",
    "                # get the inputs\n",
    "                inputs, labels = data\n",
    "\n",
    "                # wrap them in Variable\n",
    "                if use_gpu:\n",
    "                    inputs = Variable(inputs.cuda())\n",
    "                    labels = Variable(labels.cuda())\n",
    "                else:\n",
    "                    inputs, labels = Variable(inputs), Variable(labels)\n",
    "\n",
    "                # zero the parameter gradients\n",
    "                optimizer.zero_grad()\n",
    "\n",
    "                # forward\n",
    "                outputs = model(inputs)\n",
    "                _, preds = torch.max(outputs.data, 1)\n",
    "                loss = criterion(outputs, labels)\n",
    "               \n",
    "                # backward + optimize only if in training phase\n",
    "                if phase == 'train':\n",
    "                    loss.backward()\n",
    "                    optimizer.step()\n",
    "                else:\n",
    "                  pass # print(phase, preds, labels.data);\n",
    "                \n",
    "                # statistics\n",
    "                running_loss += loss.item() * inputs.size(0)\n",
    "                running_corrects += int(torch.sum(preds == labels.data))\n",
    "\n",
    "            epoch_loss = running_loss / dataset_sizes[phase]\n",
    "            epoch_accu = running_corrects / dataset_sizes[phase]\n",
    "\n",
    "            print('{} Loss: {:.4f} Accu: {:.4f}'.format(\n",
    "                phase, epoch_loss, epoch_accu))\n",
    "\n",
    "            # deep copy the model\n",
    "            if phase == 'valid':\n",
    "                if epoch_loss <= valid_loss_min:\n",
    "                    valid_loss_min = epoch_loss\n",
    "              \n",
    "                if epoch_accu >= best_accu:\n",
    "                    best_accu = epoch_accu\n",
    "                    best_model_wts = copy.deepcopy(model.state_dict())\n",
    "                    print(\"Model Overwritten\");\n",
    "\n",
    "    time_elapsed = time.time() - since\n",
    "    print('Training complete in {:.0f}m {:.0f}s'.format(\n",
    "        time_elapsed // 60, time_elapsed % 60))\n",
    "    print('Min val Loss: {:4f}'.format(valid_loss_min))\n",
    "    print('Best val Accu: {:4f}'.format(best_accu))\n",
    "\n",
    "    # load best model weights\n",
    "    model.load_state_dict(best_model_wts)\n",
    "    return model\n",
    "\n"
   ]
  },
  {
   "cell_type": "code",
   "execution_count": 69,
   "metadata": {
    "id": "xzsS52FKwVzK",
    "colab_type": "code",
    "colab": {
     "base_uri": "https://localhost:8080/",
     "height": 51.0
    },
    "outputId": "0fe5e6a8-4d3b-4986-fede-a99324df4273"
   },
   "outputs": [
    {
     "name": "stderr",
     "output_type": "stream",
     "text": [
      "/usr/local/lib/python3.6/dist-packages/torchvision/models/densenet.py:212: UserWarning: nn.init.kaiming_normal is now deprecated in favor of nn.init.kaiming_normal_.\n",
      "  nn.init.kaiming_normal(m.weight.data)\n"
     ]
    }
   ],
   "source": [
    "# TODO: Build and train your network\n",
    "\n",
    "# 1. Load a pre-trained network\n",
    "model = models.densenet161(pretrained=True)\n",
    "\n",
    "# Freeze parameters so we don't backprop through them\n",
    "for param in model.parameters():\n",
    "    param.requires_grad = False"
   ]
  },
  {
   "cell_type": "code",
   "execution_count": 70,
   "metadata": {
    "id": "Pwv5OjNlLb9y",
    "colab_type": "code",
    "colab": {
     "base_uri": "https://localhost:8080/",
     "height": 34.0
    },
    "outputId": "7375bbf4-744c-4a60-d167-846e49265802"
   },
   "outputs": [
    {
     "data": {
      "text/plain": [
       "2208"
      ]
     },
     "execution_count": 70,
     "metadata": {
      "tags": []
     },
     "output_type": "execute_result"
    }
   ],
   "source": [
    "model.classifier.in_features"
   ]
  },
  {
   "cell_type": "code",
   "execution_count": 0,
   "metadata": {
    "id": "AKYPRkY4wz6Q",
    "colab_type": "code",
    "colab": {}
   },
   "outputs": [],
   "source": [
    "# 2. Define a new, untrained feed-forward network as a classifier, using ReLU activations and dropout\n",
    "\n",
    "num_features = model.classifier.in_features\n",
    "\n",
    "classifier = nn.Sequential(OrderedDict([\n",
    "                              ('fc1', nn.Linear(num_features, 512)),\n",
    "                              ('relu', nn.ReLU()),\n",
    "                              ('drpot', nn.Dropout(p=0.5)),\n",
    "                              ('hidden', nn.Linear(512, 100)),                       \n",
    "                              ('fc2', nn.Linear(100, 2)),\n",
    "                              ('output', nn.LogSoftmax(dim=1)),\n",
    "                              ]))\n",
    "\n",
    "model.classifier = classifier"
   ]
  },
  {
   "cell_type": "code",
   "execution_count": 72,
   "metadata": {
    "id": "Ba8NqXZwxUe0",
    "colab_type": "code",
    "colab": {
     "base_uri": "https://localhost:8080/",
     "height": 2210.0
    },
    "outputId": "b179d457-5555-4bd8-dc85-bc8907d3c3d3"
   },
   "outputs": [
    {
     "name": "stdout",
     "output_type": "stream",
     "text": [
      "Using GPU: True\n",
      "Epoch 0/24\n",
      "----------\n",
      "train Loss: 0.7595 Accu: 0.5000\n",
      "valid Loss: 0.3719 Accu: 1.0000\n",
      "Model Overwritten\n",
      "Epoch 1/24\n",
      "----------\n",
      "train Loss: 0.7236 Accu: 0.6250\n",
      "valid Loss: 0.1499 Accu: 1.0000\n",
      "Model Overwritten\n",
      "Epoch 2/24\n",
      "----------\n",
      "train Loss: 0.3519 Accu: 0.7917\n",
      "valid Loss: 0.1620 Accu: 1.0000\n",
      "Model Overwritten\n",
      "Epoch 3/24\n",
      "----------\n",
      "train Loss: 0.2497 Accu: 0.8750\n",
      "valid Loss: 0.0323 Accu: 1.0000\n",
      "Model Overwritten\n",
      "Epoch 4/24\n",
      "----------\n",
      "train Loss: 0.0609 Accu: 1.0000\n",
      "valid Loss: 0.0318 Accu: 1.0000\n",
      "Model Overwritten\n",
      "Epoch 5/24\n",
      "----------\n",
      "train Loss: 0.0758 Accu: 1.0000\n",
      "valid Loss: 0.0102 Accu: 1.0000\n",
      "Model Overwritten\n",
      "Epoch 6/24\n",
      "----------\n",
      "train Loss: 0.0702 Accu: 1.0000\n",
      "valid Loss: 0.0030 Accu: 1.0000\n",
      "Model Overwritten\n",
      "Epoch 7/24\n",
      "----------\n",
      "train Loss: 0.0238 Accu: 1.0000\n",
      "valid Loss: 0.0029 Accu: 1.0000\n",
      "Model Overwritten\n",
      "Epoch 8/24\n",
      "----------\n",
      "train Loss: 0.0190 Accu: 1.0000\n",
      "valid Loss: 0.0031 Accu: 1.0000\n",
      "Model Overwritten\n",
      "Epoch 9/24\n",
      "----------\n",
      "train Loss: 0.0641 Accu: 1.0000\n",
      "valid Loss: 0.0026 Accu: 1.0000\n",
      "Model Overwritten\n",
      "Epoch 10/24\n",
      "----------\n",
      "train Loss: 0.2397 Accu: 0.8750\n",
      "valid Loss: 0.0021 Accu: 1.0000\n",
      "Model Overwritten\n",
      "Epoch 11/24\n",
      "----------\n",
      "train Loss: 0.1492 Accu: 0.9167\n",
      "valid Loss: 0.0017 Accu: 1.0000\n",
      "Model Overwritten\n",
      "Epoch 12/24\n",
      "----------\n",
      "train Loss: 0.0090 Accu: 1.0000\n",
      "valid Loss: 0.0017 Accu: 1.0000\n",
      "Model Overwritten\n",
      "Epoch 13/24\n",
      "----------\n",
      "train Loss: 0.0186 Accu: 1.0000\n",
      "valid Loss: 0.0017 Accu: 1.0000\n",
      "Model Overwritten\n",
      "Epoch 14/24\n",
      "----------\n",
      "train Loss: 0.0139 Accu: 1.0000\n",
      "valid Loss: 0.0017 Accu: 1.0000\n",
      "Model Overwritten\n",
      "Epoch 15/24\n",
      "----------\n",
      "train Loss: 0.0549 Accu: 1.0000\n",
      "valid Loss: 0.0016 Accu: 1.0000\n",
      "Model Overwritten\n",
      "Epoch 16/24\n",
      "----------\n",
      "train Loss: 0.0995 Accu: 0.9583\n",
      "valid Loss: 0.0016 Accu: 1.0000\n",
      "Model Overwritten\n",
      "Epoch 17/24\n",
      "----------\n",
      "train Loss: 0.0163 Accu: 1.0000\n",
      "valid Loss: 0.0017 Accu: 1.0000\n",
      "Model Overwritten\n",
      "Epoch 18/24\n",
      "----------\n",
      "train Loss: 0.0371 Accu: 1.0000\n",
      "valid Loss: 0.0017 Accu: 1.0000\n",
      "Model Overwritten\n",
      "Epoch 19/24\n",
      "----------\n",
      "train Loss: 0.0209 Accu: 1.0000\n",
      "valid Loss: 0.0016 Accu: 1.0000\n",
      "Model Overwritten\n",
      "Epoch 20/24\n",
      "----------\n",
      "train Loss: 0.0364 Accu: 1.0000\n",
      "valid Loss: 0.0016 Accu: 1.0000\n",
      "Model Overwritten\n",
      "Epoch 21/24\n",
      "----------\n",
      "train Loss: 0.0299 Accu: 1.0000\n",
      "valid Loss: 0.0016 Accu: 1.0000\n",
      "Model Overwritten\n",
      "Epoch 22/24\n",
      "----------\n",
      "train Loss: 0.0508 Accu: 1.0000\n",
      "valid Loss: 0.0017 Accu: 1.0000\n",
      "Model Overwritten\n",
      "Epoch 23/24\n",
      "----------\n",
      "train Loss: 0.0232 Accu: 1.0000\n",
      "valid Loss: 0.0018 Accu: 1.0000\n",
      "Model Overwritten\n",
      "Epoch 24/24\n",
      "----------\n",
      "train Loss: 0.0885 Accu: 0.9583\n",
      "valid Loss: 0.0016 Accu: 1.0000\n",
      "Model Overwritten\n",
      "Training complete in 0m 43s\n",
      "Min val Loss: 0.001593\n",
      "Best val Accu: 1.000000\n"
     ]
    }
   ],
   "source": [
    "# 3. Train the classifier layers using backpropagation using the pre-trained network to get the features\n",
    "# 4. Track the loss and accuracy on the validation set to determine the best hyperparameters\n",
    "\n",
    "num_epochs = 25\n",
    "if use_gpu:\n",
    "    print (\"Using GPU: \"+ str(use_gpu))\n",
    "    model = model.cuda()\n",
    "\n",
    "criterion = nn.CrossEntropyLoss()\n",
    "\n",
    "# Observe that only parameters of final layer are being optimized as\n",
    "# opoosed to before.\n",
    "optimizer = optim.Adam(model.classifier.parameters(), lr=0.001)\n",
    "\n",
    "# Decay LR by a factor of 0.1 every 7 epochs\n",
    "exp_lr_scheduler = lr_scheduler.StepLR(optimizer, step_size=7, gamma=0.1)\n",
    "model = train_model(model, criterion, optimizer, exp_lr_scheduler,num_epochs=num_epochs)"
   ]
  },
  {
   "cell_type": "code",
   "execution_count": 73,
   "metadata": {
    "id": "5hIhn5_5AsdE",
    "colab_type": "code",
    "colab": {
     "base_uri": "https://localhost:8080/",
     "height": 34.0
    },
    "outputId": "2d06ad5c-7bec-4073-f64c-6069d6b36c9f"
   },
   "outputs": [
    {
     "name": "stdout",
     "output_type": "stream",
     "text": [
      "Batch: 3  Test Loss: 0.002..  Test Accuracy: 1.000\n"
     ]
    }
   ],
   "source": [
    "# TODO: Do validation on the test set\n",
    "def perform_testing():\n",
    "    loss_fn = nn.NLLLoss()\n",
    "    model.eval()\n",
    "\n",
    "    accuracy = 0\n",
    "    test_loss = 0\n",
    "    for ii, (images, labels) in enumerate(dataloaders['test']):\n",
    "\n",
    "        # Set volatile to True so we don't save the history\n",
    "        with torch.no_grad():\n",
    "          if use_gpu:\n",
    "              inputs = Variable(images.cuda())\n",
    "              labels = Variable(labels.cuda())\n",
    "          else:\n",
    "              inputs = Variable(images)\n",
    "              labels = Variable(labels)\n",
    "\n",
    "        output = model.forward(inputs)\n",
    "        test_loss += loss_fn(output, labels).item()\n",
    "\n",
    "        ## Calculating the accuracy \n",
    "        # Model's output is log-softmax, take exponential to get the probabilities\n",
    "        ps = torch.exp(output).data\n",
    "        # Class with highest probability is our predicted class, compare with true label\n",
    "        equality = (labels.data == ps.max(1)[1])\n",
    "        # Accuracy is number of correct predictions divided by all predictions, just take the mean\n",
    "        accuracy += equality.type_as(torch.FloatTensor()).mean()\n",
    "\n",
    "    print(\"Batch: {} \".format(ii+1),\n",
    "          \"Test Loss: {:.3f}.. \".format(test_loss/len(dataloaders['test'])),\n",
    "          \"Test Accuracy: {:.3f}\".format(accuracy/len(dataloaders['test'])))\n",
    "\n",
    "perform_testing()"
   ]
  },
  {
   "cell_type": "markdown",
   "metadata": {
    "colab_type": "text",
    "id": "3oE_YhrS3Kt3"
   },
   "source": [
    "## Save the checkpoint\n",
    "\n",
    "Now that your network is trained, save the model so you can load it later for making predictions. You probably want to save other things such as the mapping of classes to indices which you get from one of the image datasets: `image_datasets['train'].class_to_idx`. You can attach this to the model as an attribute which makes inference easier later on.\n",
    "\n",
    "```model.class_to_idx = image_datasets['train'].class_to_idx```\n",
    "\n",
    "Remember that you'll want to completely rebuild the model later so you can use it for inference. Make sure to include any information you need in the checkpoint. If you want to load the model and keep training, you'll want to save the number of epochs as well as the optimizer state, `optimizer.state_dict`. You'll likely want to use this trained model in the next part of the project, so best to save it now."
   ]
  },
  {
   "cell_type": "code",
   "execution_count": 0,
   "metadata": {
    "colab_type": "code",
    "id": "J4vw7s603Kt3",
    "colab": {}
   },
   "outputs": [],
   "source": [
    "# TODO: Save the checkpoint \n",
    "model.class_to_idx = dataloaders['train'].dataset.class_to_idx\n",
    "model.epochs = num_epochs\n",
    "checkpoint = {'input_size': [3, 224, 224],\n",
    "                 'batch_size': dataloaders['train'].batch_size,\n",
    "                  'output_size': 2,\n",
    "                  'state_dict': model.state_dict(),\n",
    "                  'optimizer_dict':optimizer.state_dict(),\n",
    "                  'class_to_idx': model.class_to_idx,\n",
    "                  'epoch': model.epochs}\n",
    "torch.save(checkpoint, 'object-detect.pth')"
   ]
  },
  {
   "cell_type": "markdown",
   "metadata": {
    "colab_type": "text",
    "id": "kTzSWddW3Kt6"
   },
   "source": [
    "## Loading the checkpoint"
   ]
  },
  {
   "cell_type": "code",
   "execution_count": 75,
   "metadata": {
    "colab_type": "code",
    "id": "HCZN5U523Kt8",
    "colab": {
     "base_uri": "https://localhost:8080/",
     "height": 51.0
    },
    "outputId": "091c024a-1872-49d2-8eb1-d35a69275a9d"
   },
   "outputs": [
    {
     "name": "stderr",
     "output_type": "stream",
     "text": [
      "/usr/local/lib/python3.6/dist-packages/torchvision/models/densenet.py:212: UserWarning: nn.init.kaiming_normal is now deprecated in favor of nn.init.kaiming_normal_.\n",
      "  nn.init.kaiming_normal(m.weight.data)\n"
     ]
    }
   ],
   "source": [
    "# TODO: Write a function that loads a checkpoint and rebuilds the model\n",
    "def load_checkpoint(filepath):\n",
    "    checkpoint = torch.load(filepath)\n",
    "    model = models.densenet161(pretrained=False)\n",
    "    \n",
    "    classifier = nn.Sequential(OrderedDict([\n",
    "                              ('fc1', nn.Linear(num_features, 512)),\n",
    "                              ('relu', nn.ReLU()),\n",
    "                              ('drpot', nn.Dropout(p=0.5)),\n",
    "                              ('hidden', nn.Linear(512, 100)),                       \n",
    "                              ('fc2', nn.Linear(100, 2)),\n",
    "                              ('output', nn.LogSoftmax(dim=1)), \n",
    "                              ]))\n",
    "    \n",
    "    model.classifier = classifier\n",
    "    model.load_state_dict(checkpoint['state_dict'])\n",
    "    \n",
    "    return model, checkpoint['class_to_idx']\n",
    "  \n",
    "# get index to class mapping\n",
    "loaded_model, class_to_idx = load_checkpoint('object-detect.pth')\n",
    "idx_to_class = { v : k for k,v in class_to_idx.items()}"
   ]
  },
  {
   "cell_type": "code",
   "execution_count": 76,
   "metadata": {
    "id": "BOxExGc2Dlj8",
    "colab_type": "code",
    "colab": {
     "base_uri": "https://localhost:8080/",
     "height": 34.0
    },
    "outputId": "291f59f1-39b7-447b-d907-0d8491845dbb"
   },
   "outputs": [
    {
     "name": "stdout",
     "output_type": "stream",
     "text": [
      "tensor([0, 0])\n"
     ]
    }
   ],
   "source": [
    "# Testing checkpoint\n",
    "\n",
    "loaded_model.eval()\n",
    "images, labels = next(iter(dataloaders['test']))\n",
    "output = loaded_model.forward(Variable(images[:2]))\n",
    "ps = torch.exp(output).data\n",
    "print(ps.max(1)[1])"
   ]
  },
  {
   "cell_type": "code",
   "execution_count": 0,
   "metadata": {
    "id": "Ro4I2rEXMvlt",
    "colab_type": "code",
    "colab": {}
   },
   "outputs": [],
   "source": [
    "!wget -cq https://github.com/mdmamunhasan/pytorch_challenge/raw/master/flower_test_data.zip\n",
    "!unzip -qq flower_test_data.zip"
   ]
  },
  {
   "cell_type": "markdown",
   "metadata": {
    "colab_type": "text",
    "id": "k1QqyrwG3Kt_"
   },
   "source": [
    "# Inference for classification\n",
    "\n",
    "Now you'll write a function to use a trained network for inference. That is, you'll pass an image into the network and predict the class of the flower in the image. Write a function called `predict` that takes an image and a model, then returns the top $K$ most likely classes along with the probabilities. It should look like \n",
    "\n",
    "```python\n",
    "probs, classes = predict(image_path, model)\n",
    "print(probs)\n",
    "print(classes)\n",
    "> [ 0.01558163  0.01541934  0.01452626  0.01443549  0.01407339]\n",
    "> ['70', '3', '45', '62', '55']\n",
    "```\n",
    "\n",
    "First you'll need to handle processing the input image such that it can be used in your network. \n",
    "\n",
    "## Image Preprocessing\n",
    "\n",
    "You'll want to use `PIL` to load the image ([documentation](https://pillow.readthedocs.io/en/latest/reference/Image.html)). It's best to write a function that preprocesses the image so it can be used as input for the model. This function should process the images in the same manner used for training. \n",
    "\n",
    "First, resize the images where the shortest side is 256 pixels, keeping the aspect ratio. This can be done with the [`thumbnail`](http://pillow.readthedocs.io/en/3.1.x/reference/Image.html#PIL.Image.Image.thumbnail) or [`resize`](http://pillow.readthedocs.io/en/3.1.x/reference/Image.html#PIL.Image.Image.thumbnail) methods. Then you'll need to crop out the center 224x224 portion of the image.\n",
    "\n",
    "Color channels of images are typically encoded as integers 0-255, but the model expected floats 0-1. You'll need to convert the values. It's easiest with a Numpy array, which you can get from a PIL image like so `np_image = np.array(pil_image)`.\n",
    "\n",
    "As before, the network expects the images to be normalized in a specific way. For the means, it's `[0.485, 0.456, 0.406]` and for the standard deviations `[0.229, 0.224, 0.225]`. You'll want to subtract the means from each color channel, then divide by the standard deviation. \n",
    "\n",
    "And finally, PyTorch expects the color channel to be the first dimension but it's the third dimension in the PIL image and Numpy array. You can reorder dimensions using [`ndarray.transpose`](https://docs.scipy.org/doc/numpy-1.13.0/reference/generated/numpy.ndarray.transpose.html). The color channel needs to be first and retain the order of the other two dimensions."
   ]
  },
  {
   "cell_type": "code",
   "execution_count": 0,
   "metadata": {
    "colab_type": "code",
    "id": "8FuziAdu3KuA",
    "colab": {}
   },
   "outputs": [],
   "source": [
    "def process_image(image):\n",
    "    ''' Scales, crops, and normalizes a PIL image for a PyTorch model,\n",
    "        returns an Numpy array\n",
    "    '''\n",
    "    \n",
    "    # TODO: Process a PIL image for use in a PyTorch model\n",
    "\n",
    "    size = 256, 256\n",
    "    image.thumbnail(size, Image.ANTIALIAS)\n",
    "    image = image.crop((128 - 112, 128 - 112, 128 + 112, 128 + 112))\n",
    "    npImage = np.array(image)\n",
    "    npImage = npImage/255.\n",
    "        \n",
    "    imgA = npImage[:,:,0]\n",
    "    imgB = npImage[:,:,1]\n",
    "    imgC = npImage[:,:,2]\n",
    "    \n",
    "    imgA = (imgA - 0.485)/(0.229) \n",
    "    imgB = (imgB - 0.456)/(0.224)\n",
    "    imgC = (imgC - 0.406)/(0.225)\n",
    "        \n",
    "    npImage[:,:,0] = imgA\n",
    "    npImage[:,:,1] = imgB\n",
    "    npImage[:,:,2] = imgC\n",
    "    \n",
    "    npImage = np.transpose(npImage, (2,0,1))\n",
    "    \n",
    "    return npImage"
   ]
  },
  {
   "cell_type": "markdown",
   "metadata": {
    "colab_type": "text",
    "id": "Vh-4XSJZ3KuD"
   },
   "source": [
    "To check your work, the function below converts a PyTorch tensor and displays it in the notebook. If your `process_image` function works, running the output through this function should return the original image (except for the cropped out portions)."
   ]
  },
  {
   "cell_type": "code",
   "execution_count": 0,
   "metadata": {
    "colab_type": "code",
    "id": "Amoybpeo3KuD",
    "colab": {}
   },
   "outputs": [],
   "source": [
    "def imshow(image, ax=None, title=None):\n",
    "    \"\"\"Imshow for Tensor.\"\"\"\n",
    "    if ax is None:\n",
    "        fig, ax = plt.subplots()\n",
    "    \n",
    "    # PyTorch tensors assume the color channel is the first dimension\n",
    "    # but matplotlib assumes is the third dimension\n",
    "    image = image.numpy().transpose((1, 2, 0))\n",
    "    \n",
    "    # Undo preprocessing\n",
    "    mean = np.array([0.485, 0.456, 0.406])\n",
    "    std = np.array([0.229, 0.224, 0.225])\n",
    "    image = std * image + mean\n",
    "    \n",
    "    # Image needs to be clipped between 0 and 1 or it looks like noise when displayed\n",
    "    image = np.clip(image, 0, 1)\n",
    "    \n",
    "    ax.imshow(image)\n",
    "    \n",
    "    return ax"
   ]
  },
  {
   "cell_type": "markdown",
   "metadata": {
    "colab_type": "text",
    "id": "PNUU_TQu3KuG"
   },
   "source": [
    "## Class Prediction\n",
    "\n",
    "Once you can get images in the correct format, it's time to write a function for making predictions with your model. A common practice is to predict the top 5 or so (usually called top-$K$) most probable classes. You'll want to calculate the class probabilities then find the $K$ largest values.\n",
    "\n",
    "To get the top $K$ largest values in a tensor use [`x.topk(k)`](http://pytorch.org/docs/master/torch.html#torch.topk). This method returns both the highest `k` probabilities and the indices of those probabilities corresponding to the classes. You need to convert from these indices to the actual class labels using `class_to_idx` which hopefully you added to the model or from an `ImageFolder` you used to load the data ([see here](#Save-the-checkpoint)). Make sure to invert the dictionary so you get a mapping from index to class as well.\n",
    "\n",
    "Again, this method should take a path to an image and a model checkpoint, then return the probabilities and classes.\n",
    "\n",
    "```python\n",
    "probs, classes = predict(image_path, model)\n",
    "print(probs)\n",
    "print(classes)\n",
    "> [ 0.01558163  0.01541934  0.01452626  0.01443549  0.01407339]\n",
    "> ['70', '3', '45', '62', '55']\n",
    "```"
   ]
  },
  {
   "cell_type": "code",
   "execution_count": 0,
   "metadata": {
    "colab_type": "code",
    "id": "ZlgLO1653KuH",
    "colab": {}
   },
   "outputs": [],
   "source": [
    "def predict(image_path, model, topk=5):\n",
    "    ''' Predict the class (or classes) of an image using a trained deep learning model.\n",
    "    '''\n",
    "    \n",
    "    # TODO: Implement the code to predict the class from an image file\n",
    "    \n",
    "    image = torch.FloatTensor([process_image(Image.open(image_path))])\n",
    "    model.eval()\n",
    "    output = model.forward(Variable(image))\n",
    "    pobabilities = torch.exp(output).data.numpy()[0]\n",
    "    \n",
    "\n",
    "    top_idx = np.argsort(pobabilities)[-topk:][::-1] \n",
    "    top_class = [idx_to_class[x] for x in top_idx]\n",
    "    top_probability = pobabilities[top_idx]\n",
    "\n",
    "    return top_probability, top_class"
   ]
  },
  {
   "cell_type": "code",
   "execution_count": 80,
   "metadata": {
    "id": "O-P6-DvoEMhA",
    "colab_type": "code",
    "colab": {
     "base_uri": "https://localhost:8080/",
     "height": 34.0
    },
    "outputId": "b8a0ebe4-005e-4a62-ee63-34f24a1e75c6"
   },
   "outputs": [
    {
     "name": "stdout",
     "output_type": "stream",
     "text": [
      "(array([0.998977  , 0.00102295], dtype=float32), ['2', '1'])\n"
     ]
    }
   ],
   "source": [
    "print (predict('data/test/2/image_00018.jpg', loaded_model))"
   ]
  },
  {
   "cell_type": "markdown",
   "metadata": {
    "colab_type": "text",
    "id": "b5qmbXst3KuJ"
   },
   "source": [
    "## Sanity Checking\n"
   ]
  },
  {
   "cell_type": "code",
   "execution_count": 0,
   "metadata": {
    "colab_type": "code",
    "id": "QmjvEOpx3KuK",
    "colab": {}
   },
   "outputs": [],
   "source": [
    "# TODO: Display an image along with the top 5 classes\n",
    "def view_classify(img, probabilities, classes, mapper):\n",
    "    ''' Function for viewing an image and it's predicted classes.\n",
    "    '''\n",
    "    img_filename = img.split('/')[-2]\n",
    "    img = Image.open(img)\n",
    "\n",
    "    fig, (ax1, ax2) = plt.subplots(figsize=(6,10), ncols=1, nrows=2)\n",
    "    flower_name = mapper[img_filename]\n",
    "    \n",
    "    ax1.set_title(flower_name)\n",
    "    ax1.imshow(img)\n",
    "    ax1.axis('off')\n",
    "    \n",
    "    y_pos = np.arange(len(probabilities))\n",
    "    ax2.barh(y_pos, probabilities)\n",
    "    ax2.set_yticks(y_pos)\n",
    "    ax2.set_yticklabels([mapper[x] for x in classes])\n",
    "    ax2.invert_yaxis()"
   ]
  },
  {
   "cell_type": "code",
   "execution_count": 88,
   "metadata": {
    "id": "PNHKoUU_ElVM",
    "colab_type": "code",
    "colab": {
     "base_uri": "https://localhost:8080/",
     "height": 606.0
    },
    "outputId": "c42e1080-4e61-43c6-a67e-d904ec2daecf"
   },
   "outputs": [
    {
     "data": {
      "image/png": "[encoded data removed]",
      "text/plain": [
       "<Figure size 432x720 with 2 Axes>"
      ]
     },
     "metadata": {
      "tags": []
     },
     "output_type": "display_data"
    }
   ],
   "source": [
    "img = 'data/test/1/image_00001.jpg'\n",
    "#img = 'test.jpg'\n",
    "p, c = predict(img, loaded_model)\n",
    "view_classify(img, p, c, cat_to_name)"
   ]
  },
  {
   "cell_type": "code",
   "execution_count": 0,
   "metadata": {
    "id": "HCS95sk6Hxw2",
    "colab_type": "code",
    "colab": {}
   },
   "outputs": [],
   "source": [
    "# Install the PyDrive wrapper & import libraries.\n",
    "# This only needs to be done once in a notebook.\n",
    "!pip install -U -q PyDrive\n",
    "from pydrive.auth import GoogleAuth\n",
    "from pydrive.drive import GoogleDrive\n",
    "from google.colab import auth\n",
    "from oauth2client.client import GoogleCredentials\n",
    "\n",
    "# Authenticate and create the PyDrive client.\n",
    "# This only needs to be done once in a notebook.\n",
    "auth.authenticate_user()\n",
    "gauth = GoogleAuth()\n",
    "gauth.credentials = GoogleCredentials.get_application_default()\n",
    "drive = GoogleDrive(gauth)\n",
    "\n",
    "# Create & upload a file.\n",
    "uploaded = drive.CreateFile({'title': 'densenet161.pth'})\n",
    "uploaded.SetContentFile('densenet161.pth')\n",
    "uploaded.Upload()\n",
    "print('Uploaded file with ID {}'.format(uploaded.get('id')))"
   ]
  },
  {
   "cell_type": "code",
   "execution_count": 0,
   "metadata": {
    "id": "g7L5ESsrm_Pd",
    "colab_type": "code",
    "colab": {}
   },
   "outputs": [],
   "source": [
    ""
   ]
  }
 ],
 "metadata": {
  "colab": {
   "name": "object-detect-pytorch.ipynb",
   "version": "0.3.2",
   "provenance": [],
   "collapsed_sections": [],
   "toc_visible": true
  },
  "kernelspec": {
   "display_name": "Python 3",
   "language": "python",
   "name": "python3"
  },
  "accelerator": "GPU",
  "pycharm": {
   "stem_cell": {
    "cell_type": "raw",
    "source": [],
    "metadata": {
     "collapsed": false
    }
   }
  }
 },
 "nbformat": 4,
 "nbformat_minor": 0
}